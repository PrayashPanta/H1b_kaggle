{
 "cells": [
  {
   "cell_type": "code",
   "execution_count": 9,
   "metadata": {},
   "outputs": [],
   "source": [
    "import pandas as pd\n",
    "df = pd.read_csv('h1b_kaggle.csv').dropna()\n",
    "data = df[df['JOB_TITLE']=='DATA SCIENTIST']\n",
    "fb = df[df['EMPLOYER_NAME']=='FACEBOOK, INC.']\n",
    "data_fb = fb[fb['JOB_TITLE']=='DATA SCIENTIST']\n",
    "data_fb_2016 = data_fb[data_fb['YEAR']==2016]\n",
    "data_fb_2014 = data_fb[data_fb['YEAR']==2014]\n",
    "data_fb_2015 = data_fb[data_fb['YEAR']==2015]\n",
    "data_fb_2013 = data_fb[data_fb['YEAR']==2013]\n",
    "data_fb_2012 = data_fb[data_fb['YEAR']==2012]\n",
    "data_fb_site = data_fb[data_fb['WORKSITE']=='MENLO PARK, CALIFORNIA']"
   ]
  },
  {
   "cell_type": "code",
   "execution_count": null,
   "metadata": {},
   "outputs": [],
   "source": [
    "#2012: 2 \n",
    "#2013: 13\n",
    "#2014: 16 \n",
    "#2015: 31\n",
    "#2016: 35 \n",
    "#total: 98\n",
    "#86 application from worksite Menlo Park."
   ]
  },
  {
   "cell_type": "code",
   "execution_count": null,
   "metadata": {},
   "outputs": [],
   "source": []
  }
 ],
 "metadata": {
  "kernelspec": {
   "display_name": "Python 3",
   "language": "python",
   "name": "python3"
  },
  "language_info": {
   "codemirror_mode": {
    "name": "ipython",
    "version": 3
   },
   "file_extension": ".py",
   "mimetype": "text/x-python",
   "name": "python",
   "nbconvert_exporter": "python",
   "pygments_lexer": "ipython3",
   "version": "3.7.3"
  }
 },
 "nbformat": 4,
 "nbformat_minor": 2
}
